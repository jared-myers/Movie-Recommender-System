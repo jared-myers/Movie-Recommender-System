{
 "cells": [
  {
   "cell_type": "markdown",
   "id": "57a25c2d",
   "metadata": {},
   "source": [
    "# Movie Recommender System"
   ]
  },
  {
   "cell_type": "markdown",
   "id": "d8200753",
   "metadata": {},
   "source": [
    "Basic recommender system using Python and pandas.\n",
    "\n",
    "Movies will be suggested by similarity to other movies. To make the system more robust implement ability to find movies across users that both have rated well and the cross-reccommend movies that have not been viewed."
   ]
  },
  {
   "cell_type": "code",
   "execution_count": 1,
   "id": "5f6a38a0",
   "metadata": {},
   "outputs": [],
   "source": [
    "import numpy as np\n",
    "import pandas as pd"
   ]
  },
  {
   "cell_type": "code",
   "execution_count": null,
   "id": "0d242fd7",
   "metadata": {},
   "outputs": [],
   "source": []
  }
 ],
 "metadata": {
  "kernelspec": {
   "display_name": "Python 3 (ipykernel)",
   "language": "python",
   "name": "python3"
  },
  "language_info": {
   "codemirror_mode": {
    "name": "ipython",
    "version": 3
   },
   "file_extension": ".py",
   "mimetype": "text/x-python",
   "name": "python",
   "nbconvert_exporter": "python",
   "pygments_lexer": "ipython3",
   "version": "3.8.11"
  }
 },
 "nbformat": 4,
 "nbformat_minor": 5
}
